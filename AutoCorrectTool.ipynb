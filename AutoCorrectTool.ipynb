{
 "cells": [
  {
   "cell_type": "markdown",
   "metadata": {},
   "source": [
    "importing Modules"
   ]
  },
  {
   "cell_type": "code",
   "execution_count": 212,
   "metadata": {},
   "outputs": [],
   "source": [
    "import pandas as pd\n",
    "from spellchecker import SpellChecker"
   ]
  },
  {
   "cell_type": "markdown",
   "metadata": {},
   "source": [
    "Taking user Input"
   ]
  },
  {
   "cell_type": "code",
   "execution_count": 213,
   "metadata": {},
   "outputs": [],
   "source": [
    "spellcheck = SpellChecker()\n",
    "userInput = input(\"Enter please write your text: \")\n",
    "\n",
    "userInputList = userInput.split()\n",
    "namfile = open('nameDS.txt')\n",
    "allitems = namfile.readlines()\n",
    "nameList = []\n",
    "for i in allitems:\n",
    "    nameList.append(i)\n",
    "#print(nameList)\n",
    "newNameList = [x[1:-1] for x in nameList]\n",
    "#print(newNameList)"
   ]
  },
  {
   "cell_type": "markdown",
   "metadata": {},
   "source": [
    "Spelling Correction"
   ]
  },
  {
   "cell_type": "code",
   "execution_count": 214,
   "metadata": {},
   "outputs": [],
   "source": [
    "# for word in userInputList:\n",
    "#     print(f'{word}:{spellcheck.correction(word)}')"
   ]
  },
  {
   "cell_type": "markdown",
   "metadata": {},
   "source": [
    "Suggested words"
   ]
  },
  {
   "cell_type": "code",
   "execution_count": 215,
   "metadata": {},
   "outputs": [],
   "source": [
    "# for word in userInputList:\n",
    "#     print(f'{word}:{spellcheck.candidates(word)}')\n",
    "\n",
    "correctList = []\n",
    "\n",
    "for word in userInputList:\n",
    "    spellcheck.word_frequency.load_text_file(\"nameDS.txt\")\n",
    "    #spellcheck.word_frequency.load_text_file(\"t8.shakespeare.txt\")\n",
    "    #print(f'{word}:{spellcheck.candidates(word)}')\n",
    "    correctList.append(spellcheck.correction(word))"
   ]
  },
  {
   "cell_type": "code",
   "execution_count": 216,
   "metadata": {},
   "outputs": [
    {
     "name": "stdout",
     "output_type": "stream",
     "text": [
      "Incorect Input is: hllo frends\n",
      "correct sentence/word is:\n",
      "hello friends\n"
     ]
    }
   ],
   "source": [
    "#print(correctList)\n",
    "print(\"Incorect Input is: \"+ userInput)\n",
    "res = ' '.join([str(elem) for elem in correctList])\n",
    "print(\"correct sentence/word is:\")\n",
    "print(res)"
   ]
  }
 ],
 "metadata": {
  "kernelspec": {
   "display_name": "Python 3",
   "language": "python",
   "name": "python3"
  },
  "language_info": {
   "codemirror_mode": {
    "name": "ipython",
    "version": 3
   },
   "file_extension": ".py",
   "mimetype": "text/x-python",
   "name": "python",
   "nbconvert_exporter": "python",
   "pygments_lexer": "ipython3",
   "version": "3.10.4"
  },
  "orig_nbformat": 4
 },
 "nbformat": 4,
 "nbformat_minor": 2
}
