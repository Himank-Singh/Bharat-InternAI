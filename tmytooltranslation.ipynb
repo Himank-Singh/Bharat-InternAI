{
 "cells": [
  {
   "cell_type": "markdown",
   "metadata": {},
   "source": [
    "Importing modules"
   ]
  },
  {
   "cell_type": "code",
   "execution_count": 11,
   "metadata": {},
   "outputs": [],
   "source": [
    "import googletrans\n",
    "from googletrans import Translator, LANGUAGES\n",
    "from tkinter import *;\n",
    "from tkinter import ttk"
   ]
  },
  {
   "cell_type": "markdown",
   "metadata": {},
   "source": [
    "#creating UI"
   ]
  },
  {
   "cell_type": "code",
   "execution_count": 12,
   "metadata": {},
   "outputs": [],
   "source": [
    "from tkinter import Tk\n",
    "gui = Tk() #imorting tkinter\n",
    "gui.geometry('1100x400') #giving size of screen.\n",
    "gui.resizable(0,0) #prevent resizing of gui.\n",
    "gui.iconbitmap('logo https://www.google.com/url?sa=i&url=https%3A%2F%2Fwww.sammobile.com%2Fnews%2Fgoogle-translate-33-new-languages-offline-translation%2F&psig=AOvVaw05Hcw6D1z71n0x4gtQGdRo&ust=1690034602626000&source=images&cd=vfe&opi=89978449&ved=0CBEQjRxqFwoTCKiIs9X7n4ADFQAAAAAdAAAAABAU')\n",
    "gui['bg'] = 'grey' #giving background color to gui.\n",
    "\n",
    "gui.title('My Translator') #gives title to our application.\n",
    "Label(gui,text='Language Translator',font = 'Arial 20 bold').pack()\n",
    "#gui.mainloop()"
   ]
  },
  {
   "cell_type": "markdown",
   "metadata": {},
   "source": [
    "#creating textbox"
   ]
  },
  {
   "cell_type": "code",
   "execution_count": 13,
   "metadata": {},
   "outputs": [],
   "source": [
    "Label(gui,text='Enter text',font='arial 13 bold',bg='white').place(x=100, y=100)"
   ]
  },
  {
   "cell_type": "code",
   "execution_count": 14,
   "metadata": {},
   "outputs": [
    {
     "data": {
      "text/plain": [
       "''"
      ]
     },
     "execution_count": 14,
     "metadata": {},
     "output_type": "execute_result"
    }
   ],
   "source": [
    "#Taking INPUT\n",
    "Input_Text = Entry(gui, width=60)\n",
    "Input_Text.place(x=30,y=130)\n",
    "Input_Text.get()"
   ]
  },
  {
   "cell_type": "markdown",
   "metadata": {},
   "source": [
    "#creating output box"
   ]
  },
  {
   "cell_type": "code",
   "execution_count": 15,
   "metadata": {},
   "outputs": [
    {
     "name": "stdout",
     "output_type": "stream",
     "text": [
      "<function translating at 0x000002578D7C4940>\n"
     ]
    }
   ],
   "source": [
    "#creating output box.\n",
    "from googletrans import Translator, LANGUAGES\n",
    "Label(gui,text='Translation',font='arial 13 bold',bg='white').place(x=780,y=90) #creating label\n",
    "after_translation = Text(gui,font='arial 10',height=8,wrap=WORD,padx=5,pady=5,width=50) #making text area.\n",
    "after_translation.place(x=700,y=130) #position of box\n",
    "\n",
    "#Creating dropdown list \n",
    "language_list = list(LANGUAGES.values())\n",
    "final_lang = ttk.Combobox(gui,values = language_list, width=23)\n",
    "final_lang.place(x=130,y=160)\n",
    "final_lang.set('Choose your language')\n",
    "#creating function to fetch data.\n",
    "def translating():\n",
    "    translator = Translator()\n",
    "    translated = translator.translate(text=Input_Text.get(),dest =final_lang.get())\n",
    "    after_translation.delete(1.0,END)\n",
    "    after_translation.insert(END,translated.text)\n",
    "    return translated.text\n",
    "\n",
    "translastion_button = Button(gui,text='Translate',font='arial 13 bold',pady=5,command= translating,bg='skyblue',activebackground='yellow')\n",
    "translastion_button.place(x=445,y=180)\n",
    "print(translating)\n",
    "gui.mainloop()"
   ]
  }
 ],
 "metadata": {
  "kernelspec": {
   "display_name": "Python 3",
   "language": "python",
   "name": "python3"
  },
  "language_info": {
   "codemirror_mode": {
    "name": "ipython",
    "version": 3
   },
   "file_extension": ".py",
   "mimetype": "text/x-python",
   "name": "python",
   "nbconvert_exporter": "python",
   "pygments_lexer": "ipython3",
   "version": "3.10.4"
  },
  "orig_nbformat": 4
 },
 "nbformat": 4,
 "nbformat_minor": 2
}
